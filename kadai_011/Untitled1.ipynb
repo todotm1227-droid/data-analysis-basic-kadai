{
  "nbformat": 4,
  "nbformat_minor": 0,
  "metadata": {
    "colab": {
      "provenance": []
    },
    "kernelspec": {
      "name": "python3",
      "display_name": "Python 3"
    },
    "language_info": {
      "name": "python"
    }
  },
  "cells": [
    {
      "cell_type": "code",
      "source": [
        "for i in range(1, 11):\n",
        "    print (i)"
      ],
      "metadata": {
        "colab": {
          "base_uri": "https://localhost:8080/"
        },
        "id": "jVsA6n5vmZe0",
        "outputId": "ed5927e8-fb4e-4196-c577-fde5134016bb"
      },
      "execution_count": null,
      "outputs": [
        {
          "output_type": "stream",
          "name": "stdout",
          "text": [
            "1\n",
            "2\n",
            "3\n",
            "4\n",
            "5\n",
            "6\n",
            "7\n",
            "8\n",
            "9\n",
            "10\n"
          ]
        }
      ]
    },
    {
      "cell_type": "code",
      "source": [
        "#ランダムな整数を利用するため、記述が必要です。\n",
        "import random\n",
        "\n",
        "for i in range(1, 11):\n",
        "    #変数numに1～20までのランダムな整数を代入する\n",
        "    num = random.randint(1, 20)\n",
        "\n",
        "    print(f\"{i}回目の結果は{num}です。\")\n",
        "\n",
        "    #変数numの値が20であれば、breakで繰り返し処理を強制終了する\n",
        "    if num == 20:\n",
        "      print (\"20が出たので繰り返し処理を強制終了します\")\n",
        "      break"
      ],
      "metadata": {
        "colab": {
          "base_uri": "https://localhost:8080/"
        },
        "id": "X29jizTgmxAO",
        "outputId": "6578d976-78bd-45b6-95f6-414fc94be38f"
      },
      "execution_count": null,
      "outputs": [
        {
          "output_type": "stream",
          "name": "stdout",
          "text": [
            "1回目の結果は6です。\n",
            "2回目の結果は6です。\n",
            "3回目の結果は12です。\n",
            "4回目の結果は14です。\n",
            "5回目の結果は3です。\n",
            "6回目の結果は18です。\n",
            "7回目の結果は18です。\n",
            "8回目の結果は5です。\n",
            "9回目の結果は20です。\n",
            "20が出たので繰り返し処理を強制終了します\n"
          ]
        }
      ]
    },
    {
      "cell_type": "code",
      "source": [
        "for i in range(1, 11):\n",
        "    # ループ変数iの値が奇数（2で割った余りが1）であれば、値を出力せずにcontinue文で次のループに進む\n",
        "    if i % 2 == 1:\n",
        "        continue\n",
        "\n",
        "    print (i)"
      ],
      "metadata": {
        "colab": {
          "base_uri": "https://localhost:8080/"
        },
        "id": "URo9TsifofrP",
        "outputId": "3352ac5a-4ae8-469b-8433-91ff2f822ec9"
      },
      "execution_count": null,
      "outputs": [
        {
          "output_type": "stream",
          "name": "stdout",
          "text": [
            "2\n",
            "4\n",
            "6\n",
            "8\n",
            "10\n"
          ]
        }
      ]
    },
    {
      "cell_type": "code",
      "source": [
        "# ランダムな整数を利用するため、記述が必要です。\n",
        "import random\n",
        "\n",
        "# 変数numに0～4までのランダムな整数を代入する\n",
        "num = random.randint(0, 4)\n",
        "\n",
        "#変数numの最初の値を出力する（確認用）\n",
        "print(f\"最初の値は{num}です。\")\n",
        "\n",
        "# 変数numの値が0以外である間、変数numの値を出力し続ける\n",
        "while num != 0:\n",
        "    # 変数numに0～4までのランダムな整数を代入する\n",
        "    num = random.randint(0, 4)\n",
        "\n",
        "    #次の条件式で比較される、変数numの現在の値を出力する\n",
        "    print(f\"現在の値は{num}です。\")"
      ],
      "metadata": {
        "colab": {
          "base_uri": "https://localhost:8080/"
        },
        "id": "tyRcHbXqwIPq",
        "outputId": "ca20e607-9646-458b-f443-009a9b1c1be2"
      },
      "execution_count": null,
      "outputs": [
        {
          "output_type": "stream",
          "name": "stdout",
          "text": [
            "最初の値は2です。\n",
            "現在の値は4です。\n",
            "現在の値は4です。\n",
            "現在の値は1です。\n",
            "現在の値は2です。\n",
            "現在の値は4です。\n",
            "現在の値は0です。\n"
          ]
        }
      ]
    },
    {
      "cell_type": "code",
      "source": [
        "# ランダムな整数を利用するため、記述が必要です。\n",
        "import random\n",
        "\n",
        "# 変数numに0～4までのランダムな整数を代入する\n",
        "num = random.randint(0, 4)\n",
        "\n",
        "# カウンタ変数を用意する\n",
        "i = 1\n",
        "\n",
        "#変数numの最初の値を出力する（確認用）\n",
        "print(f\"最初の値は{num}です。\")\n",
        "\n",
        "# 変数numの値が0以外である間、変数numの値を出力し続ける\n",
        "while num != 0:\n",
        "    # 変数numに0～4までのランダムな整数を代入する\n",
        "    num = random.randint(0, 4)\n",
        "    # カウンタ変数iが5であれば、break文で繰り返し処理を強制終了する\n",
        "    if i == 5:\n",
        "      print(\"5回目なので繰り返し処理を強制終了します。\")\n",
        "      break\n",
        "\n",
        "    # 次の条件式で比較される、変数numの現在の値を出力する\n",
        "    print(f\"現在の値は{num}です。\")\n",
        "    # カウンタ変数の値を1増やす\n",
        "    i = i + 1"
      ],
      "metadata": {
        "colab": {
          "base_uri": "https://localhost:8080/"
        },
        "id": "tomieAgk1Fov",
        "outputId": "665088f3-83de-407f-b835-eb80c98ad7d0"
      },
      "execution_count": null,
      "outputs": [
        {
          "output_type": "stream",
          "name": "stdout",
          "text": [
            "最初の値は2です。\n",
            "現在の値は1です。\n",
            "現在の値は3です。\n",
            "現在の値は4です。\n",
            "現在の値は3です。\n",
            "5回目なので繰り返し処理を強制終了します。\n"
          ]
        }
      ]
    },
    {
      "cell_type": "code",
      "source": [],
      "metadata": {
        "id": "KH35o2BV27Jl"
      },
      "execution_count": null,
      "outputs": []
    },
    {
      "cell_type": "code",
      "source": [
        "# ランダムな整数を利用するため、記述が必要です。\n",
        "import random\n",
        "\n",
        "# 合計用の変数を用意する\n",
        "sum = 0\n",
        "\n",
        "# 変数sumの値が20以上になるまで繰り返し処理を行う\n",
        "while sum < 20:\n",
        "  # 変数numに1～10までのランダムな整数を代入する\n",
        "  num = random.randint(1, 10)\n",
        "\n",
        "  print(f\"{num}が出ました\")\n",
        "\n",
        "  # 変数numの値が偶数（2で割った余りが0）であれば、加算せずにcontinue文で次のループに進む\n",
        "  if num % 2 == 0:\n",
        "      print(\"偶数なので加算しません\")\n",
        "      continue\n",
        "\n",
        "  # 変数sumに変数sumの値を加算する\n",
        "  sum = sum + num\n",
        "  print(f\"現在のは合計は{sum}です。\")"
      ],
      "metadata": {
        "colab": {
          "base_uri": "https://localhost:8080/"
        },
        "outputId": "9d53edca-1851-48cd-d1dd-ea0eaac94b38",
        "id": "6SffHiaj3A6K"
      },
      "execution_count": null,
      "outputs": [
        {
          "output_type": "stream",
          "name": "stdout",
          "text": [
            "9が出ました\n",
            "現在のは合計は9です。\n",
            "2が出ました\n",
            "偶数なので加算しません\n",
            "5が出ました\n",
            "現在のは合計は14です。\n",
            "10が出ました\n",
            "偶数なので加算しません\n",
            "5が出ました\n",
            "現在のは合計は19です。\n",
            "9が出ました\n",
            "現在のは合計は28です。\n"
          ]
        }
      ]
    },
    {
      "cell_type": "code",
      "source": [
        "user_name = [\"侍太郎\", \"侍一郎\", \"侍二郎\", \"侍三郎\", \"侍四郎\"]\n",
        "\n",
        "# 配列user_nameの要素を1つずつ順番に出力する\n",
        "for user_name in user_name:\n",
        "    print(user_name)\n"
      ],
      "metadata": {
        "colab": {
          "base_uri": "https://localhost:8080/"
        },
        "id": "6FiRM_A5eHk7",
        "outputId": "d99ef5bc-d724-4b47-8fdf-dcfecc12e430"
      },
      "execution_count": null,
      "outputs": [
        {
          "output_type": "stream",
          "name": "stdout",
          "text": [
            "侍太郎\n",
            "侍一郎\n",
            "侍二郎\n",
            "侍三郎\n",
            "侍四郎\n"
          ]
        }
      ]
    },
    {
      "cell_type": "code",
      "source": [
        "personal_deta = {\"name\": \"侍太郎\", \"age\": 36, \"gender\": \"男性\"}\n",
        "\n",
        "# 連想配列personal_dataのキーと値を1つずつ順番に出力する。\n",
        "for key, value in personal_deta.items():\n",
        "    print(f\"{key}は{value}です。\")\n",
        "\n",
        "# 連想配列oersonal_detaの値を1つずつ順番に出力する\n",
        "for value in personal_deta.values():\n",
        "    print(value)"
      ],
      "metadata": {
        "colab": {
          "base_uri": "https://localhost:8080/"
        },
        "id": "XzafoiNnf4_X",
        "outputId": "82b332ce-e4f9-4d69-c171-b1cb5277b8ac"
      },
      "execution_count": null,
      "outputs": [
        {
          "output_type": "stream",
          "name": "stdout",
          "text": [
            "nameは侍太郎です。\n",
            "ageは36です。\n",
            "genderは男性です。\n",
            "侍太郎\n",
            "36\n",
            "男性\n"
          ]
        }
      ]
    },
    {
      "cell_type": "code",
      "source": [
        "\n",
        "user_names = [\"侍太郎\", \"侍一郎\", \"侍二郎\", \"侍三郎\", \"侍四郎\"]\n",
        "\n",
        "# 配列user_nameのインデックスと値を1つずつ順番に出力する\n",
        "for index, value in enumerate(user_name):\n",
        "    print(f\"{index} : {value}\")"
      ],
      "metadata": {
        "colab": {
          "base_uri": "https://localhost:8080/"
        },
        "id": "1nnxXwERifRp",
        "outputId": "567c64c3-80a4-4181-ebed-242778579911"
      },
      "execution_count": null,
      "outputs": [
        {
          "output_type": "stream",
          "name": "stdout",
          "text": [
            "0 : 侍太郎\n",
            "1 : 侍一郎\n",
            "2 : 侍二郎\n",
            "3 : 侍三郎\n",
            "4 : 侍四郎\n"
          ]
        }
      ]
    },
    {
      "cell_type": "code",
      "source": [
        "user_names = [\"侍太郎\", \"侍一郎\", \"侍二郎\", \"侍三郎\", \"侍四郎\"]\n",
        "\n",
        "# 検索したいユーザー名を代入する変数\n",
        "target = \"侍二郎\"\n",
        "\n",
        "for user_name in user_names:\n",
        "    print(user_name)\n",
        "\n",
        "    # 変数user_nameと変数targetの値が一致すれば、break文で繰り返し処理を強制終了する\n",
        "    if (user_name == target):\n",
        "        print(f\"{target}さんが見つかったので、繰り返し処理を強制終了します。\")\n",
        "        break"
      ],
      "metadata": {
        "colab": {
          "base_uri": "https://localhost:8080/"
        },
        "id": "jtbNsa9Ujjz3",
        "outputId": "75bb6b39-6642-4429-9891-c46d997d47cb"
      },
      "execution_count": null,
      "outputs": [
        {
          "output_type": "stream",
          "name": "stdout",
          "text": [
            "侍太郎\n",
            "侍一郎\n",
            "侍二郎\n",
            "侍二郎さんが見つかったので、繰り返し処理を強制終了します。\n"
          ]
        }
      ]
    },
    {
      "cell_type": "code",
      "source": [
        "score = {\n",
        "    \"国語\": 80,\n",
        "    \"算数\": 55,\n",
        "    \"理科\": 70,\n",
        "    \"社会\": 85,\n",
        "    \"英語\": 60,\n",
        "}\n",
        "\n",
        "print(\"合格した科目は以下の通りです。\")\n",
        "\n",
        "for key, value in score.items():\n",
        "    # 変数valueの値（点数）が70より小さければ、キー（科目名）と値（点数）を出力せずにcontinue文で次のループに進む\n",
        "    if (value < 70):\n",
        "        continue\n",
        "    print(f\"{key} : {value}点\")\n"
      ],
      "metadata": {
        "colab": {
          "base_uri": "https://localhost:8080/"
        },
        "id": "V8aySIc-lRiI",
        "outputId": "a5630124-fa40-4054-b03b-a72555fc1a88"
      },
      "execution_count": null,
      "outputs": [
        {
          "output_type": "stream",
          "name": "stdout",
          "text": [
            "合格した科目は以下の通りです。\n",
            "国語 : 80点\n",
            "理科 : 70点\n",
            "社会 : 85点\n"
          ]
        }
      ]
    },
    {
      "cell_type": "code",
      "source": [
        "solar_systems = [\"水\",\"金\",\"地\",\"火\",\"木\",\"土\",\"天\",\"海\",\"冥\"]\n",
        "\n",
        "# 配列solar_systemsの要素を1つずつ順番に出力する\n",
        "for solar_system in solar_systems:\n",
        "    print(solar_system)\n",
        "\n",
        "solar_systems = [\"水\",\"金\",\"地\",\"火\",\"木\",\"土\",\"天\",\"海\",\"冥\"]\n",
        "while solar_systems:\n",
        "  word = solar_systems.pop(0)\n",
        "  print(word)"
      ],
      "metadata": {
        "colab": {
          "base_uri": "https://localhost:8080/"
        },
        "id": "-t8-vcFBlBZx",
        "outputId": "40e7e708-dbdc-4f85-c1ca-bb6b6baa6a7e"
      },
      "execution_count": 7,
      "outputs": [
        {
          "output_type": "stream",
          "name": "stdout",
          "text": [
            "水\n",
            "金\n",
            "地\n",
            "火\n",
            "木\n",
            "土\n",
            "天\n",
            "海\n",
            "冥\n",
            "水\n",
            "金\n",
            "地\n",
            "火\n",
            "木\n",
            "土\n",
            "天\n",
            "海\n",
            "冥\n"
          ]
        }
      ]
    }
  ]
}