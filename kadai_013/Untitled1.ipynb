{
  "nbformat": 4,
  "nbformat_minor": 0,
  "metadata": {
    "colab": {
      "provenance": []
    },
    "kernelspec": {
      "name": "python3",
      "display_name": "Python 3"
    },
    "language_info": {
      "name": "python"
    }
  },
  "cells": [
    {
      "cell_type": "code",
      "source": [
        "# 朝のあいさつを出力する関数を作成する\n",
        "def say_good_morning():\n",
        "  print(\"おはようございます！\")\n",
        "  print(\"昨日はよく眠れましたか？\")\n",
        "  print(\"今日も一日頑張りましょう！\")\n",
        "\n",
        "# 夜のあいさつを出力する関数を作成する\n",
        "def say_good_evening():\n",
        "  print(\"こんばんは！\")\n",
        "  print(\"今日も一日お疲れ様でした。\")\n",
        "\n",
        "# 朝のあいさつを出力関数を呼び出す\n",
        "say_good_morning()\n",
        "\n",
        "# 夜のあいさつを出力する関数を呼び出す\n",
        "say_good_evening()"
      ],
      "metadata": {
        "colab": {
          "base_uri": "https://localhost:8080/"
        },
        "id": "FhaX7e7z2emd",
        "outputId": "115b2431-4f87-4a4f-bdbe-429f37c1edc0"
      },
      "execution_count": 1,
      "outputs": [
        {
          "output_type": "stream",
          "name": "stdout",
          "text": [
            "おはようございます！\n",
            "昨日はよく眠れましたか？\n",
            "今日も一日頑張りましょう！\n",
            "こんばんは！\n",
            "今日も一日お疲れ様でした。\n"
          ]
        }
      ]
    },
    {
      "cell_type": "code",
      "source": [
        "# 与えられた引数$priceに送料を加算し、その値を出力する関数を定義する\n",
        "def calculate_total(price):\n",
        "  # 与えられた引数priceに送料を加算し、変数totalに代入する\n",
        "  total = price + 500\n",
        "\n",
        "  # 変数totalの値を出力する\n",
        "  print(f\"{total}円\")\n",
        "\n",
        "# 関数を呼び出し、引数として購入金額を渡す\n",
        "calculate_total(1200)"
      ],
      "metadata": {
        "colab": {
          "base_uri": "https://localhost:8080/"
        },
        "id": "vmxajZki4bnD",
        "outputId": "c5d93875-ee02-4af9-8cbc-e53874f7b669"
      },
      "execution_count": 2,
      "outputs": [
        {
          "output_type": "stream",
          "name": "stdout",
          "text": [
            "1700円\n"
          ]
        }
      ]
    },
    {
      "cell_type": "code",
      "source": [
        "def add_two_arguments(price, shipping_free):\n",
        "    # 与えられた引数priceと引数shipping_freeを加算し、変数totalに代入する\n",
        "    total = price + shipping_free\n",
        "\n",
        "    # 変数$totalの値を出力する\n",
        "    print(f\"{total}円\")\n",
        "\n",
        "# 関数を呼び出し、引数として購入金額と送料を渡す\n",
        "add_two_arguments(1200, 500)"
      ],
      "metadata": {
        "colab": {
          "base_uri": "https://localhost:8080/"
        },
        "id": "Zso6mElt7Lv8",
        "outputId": "8fad5e14-c56a-45c4-9e6a-cd2d163284d9"
      },
      "execution_count": 4,
      "outputs": [
        {
          "output_type": "stream",
          "name": "stdout",
          "text": [
            "1700円\n"
          ]
        }
      ]
    },
    {
      "cell_type": "code",
      "source": [
        "\n",
        "\n",
        "def greet_user(user_name: str) -> str:\n",
        "  if user_name:\n",
        "    return f\"こんにちは、{user_name}さん！\"\n",
        "\n",
        "  else:\n",
        "    return \"こんにちは、ゲストさん！\"\n",
        "\n",
        "# 実行例\n",
        "print(greet_user(\"侍　太郎\")) # こんにちは、侍　太郎さん！\n",
        "print(greet_user(\"\")) # こんにちは、ゲストさん！"
      ],
      "metadata": {
        "colab": {
          "base_uri": "https://localhost:8080/"
        },
        "id": "SRoAcDUE8fbQ",
        "outputId": "59e59f4f-ad36-4112-b39b-57bb9b072639"
      },
      "execution_count": 6,
      "outputs": [
        {
          "output_type": "stream",
          "name": "stdout",
          "text": [
            "こんにちは、侍　太郎さん！\n",
            "こんにちは、ゲストさん！\n"
          ]
        }
      ]
    },
    {
      "cell_type": "code",
      "source": [
        "def add_two_arguments(price, consumption_tax):\n",
        "     # 与えられた引数priceと引数shipping_freeを加算し、変数totalに代入する\n",
        "    total = price + consumption_tax\n",
        "\n",
        "    # 変数$totalの値を出力する\n",
        "    print(f\"{total}円\")\n",
        "\n",
        "add_two_arguments(1000, 100) # Example call with valid arguments"
      ],
      "metadata": {
        "colab": {
          "base_uri": "https://localhost:8080/"
        },
        "id": "myK4DfiwHJx2",
        "outputId": "f8ec799b-6aec-48d2-f7a5-38eb9d7ec80d"
      },
      "execution_count": 8,
      "outputs": [
        {
          "output_type": "stream",
          "name": "stdout",
          "text": [
            "1100円\n"
          ]
        }
      ]
    },
    {
      "cell_type": "code",
      "source": [
        "def calculate_total_with_tax(price, tax_rate):\n",
        "  # price: 商品の価格 (float または int)\n",
        "  # tax_rate: 消費税率 (浮動小数点数として表されるため、10%なら0.10)\n",
        "\n",
        "  total = price * (1 + tax_rate)\n",
        "  return total\n",
        "\n",
        "# 消費税10%\n",
        "price = 1000\n",
        "tax_rate = 0.10\n",
        "total_price = calculate_total_with_tax(price, tax_rate)\n",
        "print(total_price)"
      ],
      "metadata": {
        "colab": {
          "base_uri": "https://localhost:8080/"
        },
        "id": "CVUMvU4RKnwD",
        "outputId": "5466729b-d596-452f-cf98-803b90e811a1"
      },
      "execution_count": 12,
      "outputs": [
        {
          "output_type": "stream",
          "name": "stdout",
          "text": [
            "1100.0\n"
          ]
        }
      ]
    }
  ]
}