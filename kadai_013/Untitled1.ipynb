{
  "nbformat": 4,
  "nbformat_minor": 0,
  "metadata": {
    "colab": {
      "provenance": []
    },
    "kernelspec": {
      "name": "python3",
      "display_name": "Python 3"
    },
    "language_info": {
      "name": "python"
    }
  },
  "cells": [
    {
      "cell_type": "code",
      "source": [
        "def calculate_total_price(price,tax_rate):\n",
        "  tax_amount = price * tax_rate / 100\n",
        "  total = price + tax_amount\n",
        "  return total\n",
        "\n",
        "# 消費税10%を適応して商品の合計金額を計算\n",
        "total = calculate_total_price(110, 10)\n",
        "print(total)"
      ],
      "metadata": {
        "colab": {
          "base_uri": "https://localhost:8080/"
        },
        "id": "6oUQ5rkRrj-Z",
        "outputId": "315f8531-5687-46ac-e970-52622d9b1eed"
      },
      "execution_count": 8,
      "outputs": [
        {
          "output_type": "stream",
          "name": "stdout",
          "text": [
            "121.0\n"
          ]
        }
      ]
    },
    {
      "cell_type": "code",
      "source": [],
      "metadata": {
        "id": "9BqvIRoT7jG6"
      },
      "execution_count": null,
      "outputs": []
    }
  ]
}