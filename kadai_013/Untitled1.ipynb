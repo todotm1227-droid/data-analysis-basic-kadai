{
  "nbformat": 4,
  "nbformat_minor": 0,
  "metadata": {
    "colab": {
      "provenance": []
    },
    "kernelspec": {
      "name": "python3",
      "display_name": "Python 3"
    },
    "language_info": {
      "name": "python"
    }
  },
  "cells": [
    {
      "cell_type": "code",
      "source": [
        "def calculate_total_price(price,tax_rate):\n",
        "  tax_amount = price * tax_rate / 100\n",
        "  total = price + tax_amount\n",
        "  return (f\"{price}円【税込:{total:.0f}円\")\n",
        "\n",
        "# 消費税10%を適応して商品の合計金額を計算\n",
        "print(calculate_total_price(1000, 10))"
      ],
      "metadata": {
        "colab": {
          "base_uri": "https://localhost:8080/"
        },
        "id": "6oUQ5rkRrj-Z",
        "outputId": "f59526d9-5956-47cd-e411-dcb678089245"
      },
      "execution_count": 5,
      "outputs": [
        {
          "output_type": "stream",
          "name": "stdout",
          "text": [
            "1000円【税込:1100円\n"
          ]
        }
      ]
    }
  ]
}