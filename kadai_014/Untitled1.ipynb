{
  "nbformat": 4,
  "nbformat_minor": 0,
  "metadata": {
    "colab": {
      "provenance": []
    },
    "kernelspec": {
      "name": "python3",
      "display_name": "Python 3"
    },
    "language_info": {
      "name": "python"
    }
  },
  "cells": [
    {
      "cell_type": "code",
      "source": [
        "price1 = 100  # グローバル変数\n",
        "price2 = 200  # グローバル変数\n",
        "tax = 1.1     # グローバル変数\n",
        "\n",
        "def total():\n",
        "    # 合計金額のみ計算して返す\n",
        "    return price1 + price2\n",
        "\n",
        "# 税込みの合計を計算して出力する\n",
        "print(total() * tax)"
      ],
      "metadata": {
        "colab": {
          "base_uri": "https://localhost:8080/"
        },
        "id": "KT197hDMf6HQ",
        "outputId": "11187d32-a61b-45e7-b1f4-70d9d65db679"
      },
      "execution_count": 24,
      "outputs": [
        {
          "output_type": "stream",
          "name": "stdout",
          "text": [
            "330.0\n"
          ]
        }
      ]
    }
  ]
}