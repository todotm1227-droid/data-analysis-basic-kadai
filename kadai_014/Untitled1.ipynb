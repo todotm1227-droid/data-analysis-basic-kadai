{
  "nbformat": 4,
  "nbformat_minor": 0,
  "metadata": {
    "colab": {
      "provenance": []
    },
    "kernelspec": {
      "name": "python3",
      "display_name": "Python 3"
    },
    "language_info": {
      "name": "python"
    }
  },
  "cells": [
    {
      "cell_type": "code",
      "source": [
        "# グローバル変数を定義する\n",
        "price1 = 100\n",
        "\n",
        "def total():\n",
        "    # ローカル変数を定義する\n",
        "    price2 = 200\n",
        "\n",
        "    # ローカルスコープの範囲内でローカル変数を使う\n",
        "    print(price2)\n",
        "\n",
        "    tax = 1.1\n",
        "    return (price1 + price2) * tax\n",
        "\n",
        "# total関数を呼び出し、結果を出力する\n",
        "print(total())"
      ],
      "metadata": {
        "colab": {
          "base_uri": "https://localhost:8080/"
        },
        "id": "OZColNsbXQjb",
        "outputId": "4373333b-9f03-4814-d868-f1cd35a81eb0"
      },
      "execution_count": 21,
      "outputs": [
        {
          "output_type": "stream",
          "name": "stdout",
          "text": [
            "200\n",
            "330.0\n"
          ]
        }
      ]
    }
  ]
}