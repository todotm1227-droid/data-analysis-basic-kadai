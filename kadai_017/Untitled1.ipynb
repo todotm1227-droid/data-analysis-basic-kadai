{
  "nbformat": 4,
  "nbformat_minor": 0,
  "metadata": {
    "colab": {
      "provenance": []
    },
    "kernelspec": {
      "name": "python3",
      "display_name": "Python 3"
    },
    "language_info": {
      "name": "python"
    }
  },
  "cells": [
    {
      "cell_type": "code",
      "source": [
        "class Human:\n",
        "    def __init__(self, name, age):\n",
        "        self.name = name\n",
        "        self.age = age\n",
        "\n",
        "    def check_adult(self):\n",
        "       if self.age >= 20:\n",
        "           return f\"{self.name}は大人です。\"\n",
        "       else:\n",
        "           return f\"{self.name}は大人ではありません\"\n",
        "\n",
        "humans = [\n",
        "    Human(\"侍太郎\", 21),\n",
        "    Human(\"侍一郎\", 15),\n",
        "    Human(\"侍二郎\", 23),\n",
        "    Human(\"侍三郎\", 29),\n",
        "    Human(\"侍四郎\", 11)\n",
        "]\n",
        "\n",
        "for human in humans:\n",
        "    print(human.check_adult())"
      ],
      "metadata": {
        "colab": {
          "base_uri": "https://localhost:8080/"
        },
        "id": "Piy8BjrkJinO",
        "outputId": "85694bb1-8a8d-463e-a939-9e5cf2dda420"
      },
      "execution_count": 20,
      "outputs": [
        {
          "output_type": "stream",
          "name": "stdout",
          "text": [
            "侍太郎は大人です。\n",
            "侍一郎は大人ではありません\n",
            "侍二郎は大人です。\n",
            "侍三郎は大人です。\n",
            "侍四郎は大人ではありません\n"
          ]
        }
      ]
    }
  ]
}